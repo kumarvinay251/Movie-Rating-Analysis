{
 "cells": [
  {
   "cell_type": "code",
   "execution_count": 21,
   "metadata": {},
   "outputs": [],
   "source": [
    "import numpy as np\n",
    "import pandas as pd\n",
    "import matplotlib.pyplot as plt\n",
    "reviews=pd.read_csv(\"fandango_scores.csv\")"
   ]
  },
  {
   "cell_type": "code",
   "execution_count": 22,
   "metadata": {},
   "outputs": [
    {
     "name": "stdout",
     "output_type": "stream",
     "text": [
      "<class 'pandas.core.frame.DataFrame'>\n",
      "RangeIndex: 146 entries, 0 to 145\n",
      "Data columns (total 22 columns):\n",
      "FILM                          146 non-null object\n",
      "RottenTomatoes                146 non-null int64\n",
      "RottenTomatoes_User           146 non-null int64\n",
      "Metacritic                    146 non-null int64\n",
      "Metacritic_User               146 non-null float64\n",
      "IMDB                          146 non-null float64\n",
      "Fandango_Stars                146 non-null float64\n",
      "Fandango_Ratingvalue          146 non-null float64\n",
      "RT_norm                       146 non-null float64\n",
      "RT_user_norm                  146 non-null float64\n",
      "Metacritic_norm               146 non-null float64\n",
      "Metacritic_user_nom           146 non-null float64\n",
      "IMDB_norm                     146 non-null float64\n",
      "RT_norm_round                 146 non-null float64\n",
      "RT_user_norm_round            146 non-null float64\n",
      "Metacritic_norm_round         146 non-null float64\n",
      "Metacritic_user_norm_round    146 non-null float64\n",
      "IMDB_norm_round               146 non-null float64\n",
      "Metacritic_user_vote_count    146 non-null int64\n",
      "IMDB_user_vote_count          146 non-null int64\n",
      "Fandango_votes                146 non-null int64\n",
      "Fandango_Difference           146 non-null float64\n",
      "dtypes: float64(15), int64(6), object(1)\n",
      "memory usage: 25.2+ KB\n"
     ]
    },
    {
     "data": {
      "text/html": [
       "<div>\n",
       "<style scoped>\n",
       "    .dataframe tbody tr th:only-of-type {\n",
       "        vertical-align: middle;\n",
       "    }\n",
       "\n",
       "    .dataframe tbody tr th {\n",
       "        vertical-align: top;\n",
       "    }\n",
       "\n",
       "    .dataframe thead th {\n",
       "        text-align: right;\n",
       "    }\n",
       "</style>\n",
       "<table border=\"1\" class=\"dataframe\">\n",
       "  <thead>\n",
       "    <tr style=\"text-align: right;\">\n",
       "      <th></th>\n",
       "      <th>FILM</th>\n",
       "      <th>RottenTomatoes</th>\n",
       "      <th>RottenTomatoes_User</th>\n",
       "      <th>Metacritic</th>\n",
       "      <th>Metacritic_User</th>\n",
       "      <th>IMDB</th>\n",
       "      <th>Fandango_Stars</th>\n",
       "      <th>Fandango_Ratingvalue</th>\n",
       "      <th>RT_norm</th>\n",
       "      <th>RT_user_norm</th>\n",
       "      <th>...</th>\n",
       "      <th>IMDB_norm</th>\n",
       "      <th>RT_norm_round</th>\n",
       "      <th>RT_user_norm_round</th>\n",
       "      <th>Metacritic_norm_round</th>\n",
       "      <th>Metacritic_user_norm_round</th>\n",
       "      <th>IMDB_norm_round</th>\n",
       "      <th>Metacritic_user_vote_count</th>\n",
       "      <th>IMDB_user_vote_count</th>\n",
       "      <th>Fandango_votes</th>\n",
       "      <th>Fandango_Difference</th>\n",
       "    </tr>\n",
       "  </thead>\n",
       "  <tbody>\n",
       "    <tr>\n",
       "      <th>0</th>\n",
       "      <td>Avengers: Age of Ultron (2015)</td>\n",
       "      <td>74</td>\n",
       "      <td>86</td>\n",
       "      <td>66</td>\n",
       "      <td>7.1</td>\n",
       "      <td>7.8</td>\n",
       "      <td>5.0</td>\n",
       "      <td>4.5</td>\n",
       "      <td>3.70</td>\n",
       "      <td>4.3</td>\n",
       "      <td>...</td>\n",
       "      <td>3.90</td>\n",
       "      <td>3.5</td>\n",
       "      <td>4.5</td>\n",
       "      <td>3.5</td>\n",
       "      <td>3.5</td>\n",
       "      <td>4.0</td>\n",
       "      <td>1330</td>\n",
       "      <td>271107</td>\n",
       "      <td>14846</td>\n",
       "      <td>0.5</td>\n",
       "    </tr>\n",
       "    <tr>\n",
       "      <th>1</th>\n",
       "      <td>Cinderella (2015)</td>\n",
       "      <td>85</td>\n",
       "      <td>80</td>\n",
       "      <td>67</td>\n",
       "      <td>7.5</td>\n",
       "      <td>7.1</td>\n",
       "      <td>5.0</td>\n",
       "      <td>4.5</td>\n",
       "      <td>4.25</td>\n",
       "      <td>4.0</td>\n",
       "      <td>...</td>\n",
       "      <td>3.55</td>\n",
       "      <td>4.5</td>\n",
       "      <td>4.0</td>\n",
       "      <td>3.5</td>\n",
       "      <td>4.0</td>\n",
       "      <td>3.5</td>\n",
       "      <td>249</td>\n",
       "      <td>65709</td>\n",
       "      <td>12640</td>\n",
       "      <td>0.5</td>\n",
       "    </tr>\n",
       "    <tr>\n",
       "      <th>2</th>\n",
       "      <td>Ant-Man (2015)</td>\n",
       "      <td>80</td>\n",
       "      <td>90</td>\n",
       "      <td>64</td>\n",
       "      <td>8.1</td>\n",
       "      <td>7.8</td>\n",
       "      <td>5.0</td>\n",
       "      <td>4.5</td>\n",
       "      <td>4.00</td>\n",
       "      <td>4.5</td>\n",
       "      <td>...</td>\n",
       "      <td>3.90</td>\n",
       "      <td>4.0</td>\n",
       "      <td>4.5</td>\n",
       "      <td>3.0</td>\n",
       "      <td>4.0</td>\n",
       "      <td>4.0</td>\n",
       "      <td>627</td>\n",
       "      <td>103660</td>\n",
       "      <td>12055</td>\n",
       "      <td>0.5</td>\n",
       "    </tr>\n",
       "    <tr>\n",
       "      <th>3</th>\n",
       "      <td>Do You Believe? (2015)</td>\n",
       "      <td>18</td>\n",
       "      <td>84</td>\n",
       "      <td>22</td>\n",
       "      <td>4.7</td>\n",
       "      <td>5.4</td>\n",
       "      <td>5.0</td>\n",
       "      <td>4.5</td>\n",
       "      <td>0.90</td>\n",
       "      <td>4.2</td>\n",
       "      <td>...</td>\n",
       "      <td>2.70</td>\n",
       "      <td>1.0</td>\n",
       "      <td>4.0</td>\n",
       "      <td>1.0</td>\n",
       "      <td>2.5</td>\n",
       "      <td>2.5</td>\n",
       "      <td>31</td>\n",
       "      <td>3136</td>\n",
       "      <td>1793</td>\n",
       "      <td>0.5</td>\n",
       "    </tr>\n",
       "    <tr>\n",
       "      <th>4</th>\n",
       "      <td>Hot Tub Time Machine 2 (2015)</td>\n",
       "      <td>14</td>\n",
       "      <td>28</td>\n",
       "      <td>29</td>\n",
       "      <td>3.4</td>\n",
       "      <td>5.1</td>\n",
       "      <td>3.5</td>\n",
       "      <td>3.0</td>\n",
       "      <td>0.70</td>\n",
       "      <td>1.4</td>\n",
       "      <td>...</td>\n",
       "      <td>2.55</td>\n",
       "      <td>0.5</td>\n",
       "      <td>1.5</td>\n",
       "      <td>1.5</td>\n",
       "      <td>1.5</td>\n",
       "      <td>2.5</td>\n",
       "      <td>88</td>\n",
       "      <td>19560</td>\n",
       "      <td>1021</td>\n",
       "      <td>0.5</td>\n",
       "    </tr>\n",
       "  </tbody>\n",
       "</table>\n",
       "<p>5 rows × 22 columns</p>\n",
       "</div>"
      ],
      "text/plain": [
       "                             FILM  RottenTomatoes  RottenTomatoes_User  \\\n",
       "0  Avengers: Age of Ultron (2015)              74                   86   \n",
       "1               Cinderella (2015)              85                   80   \n",
       "2                  Ant-Man (2015)              80                   90   \n",
       "3          Do You Believe? (2015)              18                   84   \n",
       "4   Hot Tub Time Machine 2 (2015)              14                   28   \n",
       "\n",
       "   Metacritic  Metacritic_User  IMDB  Fandango_Stars  Fandango_Ratingvalue  \\\n",
       "0          66              7.1   7.8             5.0                   4.5   \n",
       "1          67              7.5   7.1             5.0                   4.5   \n",
       "2          64              8.1   7.8             5.0                   4.5   \n",
       "3          22              4.7   5.4             5.0                   4.5   \n",
       "4          29              3.4   5.1             3.5                   3.0   \n",
       "\n",
       "   RT_norm  RT_user_norm         ...           IMDB_norm  RT_norm_round  \\\n",
       "0     3.70           4.3         ...                3.90            3.5   \n",
       "1     4.25           4.0         ...                3.55            4.5   \n",
       "2     4.00           4.5         ...                3.90            4.0   \n",
       "3     0.90           4.2         ...                2.70            1.0   \n",
       "4     0.70           1.4         ...                2.55            0.5   \n",
       "\n",
       "   RT_user_norm_round  Metacritic_norm_round  Metacritic_user_norm_round  \\\n",
       "0                 4.5                    3.5                         3.5   \n",
       "1                 4.0                    3.5                         4.0   \n",
       "2                 4.5                    3.0                         4.0   \n",
       "3                 4.0                    1.0                         2.5   \n",
       "4                 1.5                    1.5                         1.5   \n",
       "\n",
       "   IMDB_norm_round  Metacritic_user_vote_count  IMDB_user_vote_count  \\\n",
       "0              4.0                        1330                271107   \n",
       "1              3.5                         249                 65709   \n",
       "2              4.0                         627                103660   \n",
       "3              2.5                          31                  3136   \n",
       "4              2.5                          88                 19560   \n",
       "\n",
       "   Fandango_votes  Fandango_Difference  \n",
       "0           14846                  0.5  \n",
       "1           12640                  0.5  \n",
       "2           12055                  0.5  \n",
       "3            1793                  0.5  \n",
       "4            1021                  0.5  \n",
       "\n",
       "[5 rows x 22 columns]"
      ]
     },
     "execution_count": 22,
     "metadata": {},
     "output_type": "execute_result"
    }
   ],
   "source": [
    "reviews.info()\n",
    "reviews.head()"
   ]
  },
  {
   "cell_type": "markdown",
   "metadata": {},
   "source": [
    "We will select the required columns and select the first row"
   ]
  },
  {
   "cell_type": "code",
   "execution_count": 23,
   "metadata": {},
   "outputs": [
    {
     "name": "stdout",
     "output_type": "stream",
     "text": [
      "                             FILM  RT_user_norm  Metacritic_user_nom  \\\n",
      "0  Avengers: Age of Ultron (2015)           4.3                 3.55   \n",
      "\n",
      "   IMDB_norm  Fandango_Ratingvalue  Fandango_Stars  \n",
      "0        3.9                   4.5             5.0  \n"
     ]
    }
   ],
   "source": [
    "cols=['FILM', 'RT_user_norm', 'Metacritic_user_nom', 'IMDB_norm', 'Fandango_Ratingvalue', 'Fandango_Stars']\n",
    "norm_reviews=reviews[cols]\n",
    "print(norm_reviews[:1])\n"
   ]
  },
  {
   "cell_type": "markdown",
   "metadata": {},
   "source": [
    "Now, we look upon all the user_norm values contain average user rating for each movie, normalized to 0-5 point scale. For bar plot, we need to specify the positions of the bars, the widths of the bars, and the positions of the axis labels. "
   ]
  },
  {
   "cell_type": "code",
   "execution_count": 24,
   "metadata": {},
   "outputs": [
    {
     "data": {
      "image/png": "[encoded data removed]",
      "text/plain": [
       "<Figure size 432x288 with 1 Axes>"
      ]
     },
     "metadata": {},
     "output_type": "display_data"
    }
   ],
   "source": [
    "import matplotlib.pyplot as plt\n",
    "from numpy import arange\n",
    "#np.arrange() returns evenly spaced values; arange to generate the positions on the left side of our bars\n",
    "num_cols = ['RT_user_norm', 'Metacritic_user_nom', 'IMDB_norm', 'Fandango_Ratingvalue', 'Fandango_Stars']\n",
    "\n",
    "bar_heights = norm_reviews[num_cols].iloc[0].values\n",
    "bar_positions = arange(5) + 0.75\n",
    "fig, ax = plt.subplots()\n",
    "##ax.bar(bar_positions,bar_height,width)\n",
    "ax.bar(bar_positions, bar_heights, 0.5)\n",
    "plt.show()"
   ]
  },
  {
   "cell_type": "markdown",
   "metadata": {},
   "source": [
    "Now, lets align axis ticks and labels\n",
    "Axes.set_xticks() to change the positions of the ticks\n",
    "Axes.set_xticklabels() to specify the tick labels\n",
    "    Axes.set_xticklabels(num_cols,rotation=90)"
   ]
  },
  {
   "cell_type": "code",
   "execution_count": 25,
   "metadata": {},
   "outputs": [
    {
     "data": {
      "image/png": "[encoded data removed]",
      "text/plain": [
       "<Figure size 432x288 with 1 Axes>"
      ]
     },
     "metadata": {},
     "output_type": "display_data"
    }
   ],
   "source": [
    "num_cols = ['RT_user_norm', 'Metacritic_user_nom', 'IMDB_norm', 'Fandango_Ratingvalue', 'Fandango_Stars']\n",
    "bar_heights = norm_reviews[num_cols].iloc[0].values\n",
    "bar_positions = arange(5) + 0.75\n",
    "tick_positions=range(1,6)\n",
    "fig,ax=plt.subplots()\n",
    "ax.bar(bar_positions, bar_heights, 0.5)\n",
    "ax.set_xticks(tick_positions)\n",
    "ax.set_xticklabels(num_cols, rotation=90)\n",
    "ax.set_xlabel=('Rating Source')\n",
    "ax.set_ylabel=('Average Rating')\n",
    "ax.set_title('Average User Rating For Avengers: Age of Ultron (2015)')\n",
    "plt.show()              \n"
   ]
  },
  {
   "cell_type": "markdown",
   "metadata": {},
   "source": [
    "# Horizontal Bar Plot\n",
    "Instead of using Axes.bar(), we will use now Axes.barh(). This method now requires tqo parameters: Bottom and width.\n",
    "Bottom, will be used to specify the y coordinate of the bottom side of the bars and width parameter to specify the length of the bars and width to specify the length of bars\n",
    "Imprtant:\n",
    "fig, ax = plt.subplots() is ashortcut of \n",
    "fig = plt.figure()\n",
    "ax = fig.add_subplot(111)\n",
    "Basically, plt.subplots() is a function that returns a tuple containing a figure and axes object(s). Thus when using fig, ax = plt.subplots() you unpack this tuple into the variables fig and ax."
   ]
  },
  {
   "cell_type": "code",
   "execution_count": 32,
   "metadata": {},
   "outputs": [
    {
     "data": {
      "image/png": "[encoded data removed]",
      "text/plain": [
       "<Figure size 432x288 with 1 Axes>"
      ]
     },
     "metadata": {},
     "output_type": "display_data"
    }
   ],
   "source": [
    "bar_widths = norm_reviews[num_cols].iloc[0].values\n",
    "bar_positions = arange(5) + 0.75\n",
    "tick_positions = range(1,6)\n",
    "fig, ax = plt.subplots()\n",
    "ax.barh(bar_positions, bar_widths, 0.5)\n",
    "ax.set_yticks(tick_positions)\n",
    "ax.set_yticklabels(num_cols)\n",
    "ax.set_xlabel('Average Rating')\n",
    "ax.set_ylabel('Rating Source')\n",
    "ax.set_title('Average User Rating For Avengers: Age of Ultron (2015)')\n",
    "plt.show()"
   ]
  },
  {
   "cell_type": "markdown",
   "metadata": {},
   "source": [
    "# Scatter Plot\n",
    "scatter plot hels us to know whether two columns are weakly or strongly correlated. While correlation coefficient gicves the precise number, a scatter plot will help us to find the outliers and gives us the sense of the spread out of the data\n",
    "To generate a scatter plot, we use Axes.scatter(). The scatter() method has 2 required parameters, x and y, which matches the parameters of the plot() method. The values for these parameters need to be iterable objects of matching lengths (lists, NumPy arrays, or pandas series).\n"
   ]
  },
  {
   "cell_type": "markdown",
   "metadata": {},
   "source": [
    "Let's start by creating a scatter plot that visualizes the relationship between the Fandango_Ratingvalue and RT_user_norm columns. We're looking for at least a weak correlation between the columns."
   ]
  },
  {
   "cell_type": "code",
   "execution_count": 36,
   "metadata": {},
   "outputs": [
    {
     "name": "stdout",
     "output_type": "stream",
     "text": [
      "                                               FILM  RT_user_norm  \\\n",
      "0                    Avengers: Age of Ultron (2015)          4.30   \n",
      "1                                 Cinderella (2015)          4.00   \n",
      "2                                    Ant-Man (2015)          4.50   \n",
      "3                            Do You Believe? (2015)          4.20   \n",
      "4                     Hot Tub Time Machine 2 (2015)          1.40   \n",
      "5                          The Water Diviner (2015)          3.10   \n",
      "6                             Irrational Man (2015)          2.65   \n",
      "7                                   Top Five (2014)          3.20   \n",
      "8                      Shaun the Sheep Movie (2015)          4.10   \n",
      "9                               Love & Mercy (2015)          4.35   \n",
      "10                Far From The Madding Crowd (2015)          3.85   \n",
      "11                                 Black Sea (2015)          3.00   \n",
      "12                                 Leviathan (2014)          3.95   \n",
      "13                                  Unbroken (2014)          3.50   \n",
      "14                        The Imitation Game (2014)          4.60   \n",
      "15                                   Taken 3 (2015)          2.30   \n",
      "16                                     Ted 2 (2015)          2.90   \n",
      "17                                  Southpaw (2015)          4.00   \n",
      "18   Night at the Museum: Secret of the Tomb (2014)          2.90   \n",
      "19                                    Pixels (2015)          2.70   \n",
      "20                            McFarland, USA (2015)          4.45   \n",
      "21                      Insidious: Chapter 3 (2015)          2.80   \n",
      "22                   The Man From U.N.C.L.E. (2015)          4.00   \n",
      "23                             Run All Night (2015)          2.95   \n",
      "24                                Trainwreck (2015)          3.70   \n",
      "25                                     Selma (2014)          4.30   \n",
      "26                                Ex Machina (2015)          4.30   \n",
      "27                               Still Alice (2015)          4.25   \n",
      "28                                Wild Tales (2014)          4.60   \n",
      "29                       The End of the Tour (2015)          4.45   \n",
      "..                                              ...           ...   \n",
      "116                     Clouds of Sils Maria (2015)          3.35   \n",
      "117                       Testament of Youth (2015)          3.95   \n",
      "118                    Infinitely Polar Bear (2015)          3.80   \n",
      "119                                  Phoenix (2015)          4.05   \n",
      "120                             The Wolfpack (2015)          3.65   \n",
      "121           The Stanford Prison Experiment (2015)          4.35   \n",
      "122                                Tangerine (2015)          4.30   \n",
      "123                           Magic Mike XXL (2015)          3.20   \n",
      "124                                     Home (2015)          3.25   \n",
      "125                       The Wedding Ringer (2015)          3.30   \n",
      "126                            Woman in Gold (2015)          4.05   \n",
      "127                      The Last Five Years (2015)          3.00   \n",
      "128     Mission: Impossible â€“ Rogue Nation (2015)          4.50   \n",
      "129                                      Amy (2015)          4.55   \n",
      "130                           Jurassic World (2015)          4.05   \n",
      "131                                  Minions (2015)          2.60   \n",
      "132                                      Max (2015)          3.65   \n",
      "133                   Paul Blart: Mall Cop 2 (2015)          1.80   \n",
      "134                         The Longest Ride (2015)          3.65   \n",
      "135                       The Lazarus Effect (2015)          1.15   \n",
      "136      The Woman In Black 2 Angel of Death (2015)          1.25   \n",
      "137                            Danny Collins (2015)          3.75   \n",
      "138                              Spare Parts (2015)          4.15   \n",
      "139                                   Serena (2015)          1.25   \n",
      "140                               Inside Out (2015)          4.50   \n",
      "141                               Mr. Holmes (2015)          3.90   \n",
      "142                                      '71 (2015)          4.10   \n",
      "143                      Two Days, One Night (2014)          3.90   \n",
      "144       Gett: The Trial of Viviane Amsalem (2015)          4.05   \n",
      "145              Kumiko, The Treasure Hunter (2015)          3.15   \n",
      "\n",
      "     Metacritic_user_nom  IMDB_norm  Fandango_Ratingvalue  Fandango_Stars  \n",
      "0                   3.55       3.90                   4.5             5.0  \n",
      "1                   3.75       3.55                   4.5             5.0  \n",
      "2                   4.05       3.90                   4.5             5.0  \n",
      "3                   2.35       2.70                   4.5             5.0  \n",
      "4                   1.70       2.55                   3.0             3.5  \n",
      "5                   3.40       3.60                   4.0             4.5  \n",
      "6                   3.80       3.45                   3.5             4.0  \n",
      "7                   3.40       3.25                   3.5             4.0  \n",
      "8                   4.40       3.70                   4.0             4.5  \n",
      "9                   4.25       3.90                   4.0             4.5  \n",
      "10                  3.75       3.60                   4.0             4.5  \n",
      "11                  3.30       3.20                   3.5             4.0  \n",
      "12                  3.60       3.85                   3.5             4.0  \n",
      "13                  3.25       3.60                   4.1             4.5  \n",
      "14                  4.10       4.05                   4.6             5.0  \n",
      "15                  2.30       3.05                   4.1             4.5  \n",
      "16                  3.25       3.30                   4.1             4.5  \n",
      "17                  4.10       3.90                   4.6             5.0  \n",
      "18                  2.90       3.15                   4.1             4.5  \n",
      "19                  2.65       2.80                   4.1             4.5  \n",
      "20                  3.60       3.75                   4.6             5.0  \n",
      "21                  3.45       3.15                   4.1             4.5  \n",
      "22                  3.95       3.80                   4.1             4.5  \n",
      "23                  3.65       3.30                   4.1             4.5  \n",
      "24                  3.00       3.35                   4.1             4.5  \n",
      "25                  3.55       3.75                   4.6             5.0  \n",
      "26                  3.95       3.85                   4.1             4.5  \n",
      "27                  3.90       3.75                   4.1             4.5  \n",
      "28                  4.40       4.10                   4.1             4.5  \n",
      "29                  3.75       3.95                   4.1             4.5  \n",
      "..                   ...        ...                   ...             ...  \n",
      "116                 3.55       3.40                   3.4             3.5  \n",
      "117                 3.95       3.65                   3.9             4.0  \n",
      "118                 3.95       3.60                   3.9             4.0  \n",
      "119                 4.00       3.60                   3.4             3.5  \n",
      "120                 3.50       3.55                   3.4             3.5  \n",
      "121                 4.25       3.55                   3.9             4.0  \n",
      "122                 3.65       3.70                   3.9             4.0  \n",
      "123                 2.70       3.15                   4.4             4.5  \n",
      "124                 3.65       3.35                   4.4             4.5  \n",
      "125                 1.65       3.35                   4.4             4.5  \n",
      "126                 3.60       3.70                   4.4             4.5  \n",
      "127                 3.45       3.00                   4.4             4.5  \n",
      "128                 4.00       3.90                   4.4             4.5  \n",
      "129                 4.40       4.00                   4.4             4.5  \n",
      "130                 3.50       3.65                   4.5             4.5  \n",
      "131                 2.85       3.35                   4.0             4.0  \n",
      "132                 2.95       3.50                   4.5             4.5  \n",
      "133                 1.20       2.15                   3.5             3.5  \n",
      "134                 2.40       3.60                   4.5             4.5  \n",
      "135                 2.45       2.60                   3.0             3.0  \n",
      "136                 2.20       2.45                   3.0             3.0  \n",
      "137                 3.55       3.55                   4.0             4.0  \n",
      "138                 3.55       3.60                   4.5             4.5  \n",
      "139                 2.65       2.70                   3.0             3.0  \n",
      "140                 4.45       4.30                   4.5             4.5  \n",
      "141                 3.95       3.70                   4.0             4.0  \n",
      "142                 3.75       3.60                   3.5             3.5  \n",
      "143                 4.40       3.70                   3.5             3.5  \n",
      "144                 3.65       3.90                   3.5             3.5  \n",
      "145                 3.20       3.35                   3.5             3.5  \n",
      "\n",
      "[146 rows x 6 columns]\n",
      "<class 'pandas.core.frame.DataFrame'>\n",
      "RangeIndex: 146 entries, 0 to 145\n",
      "Data columns (total 6 columns):\n",
      "FILM                    146 non-null object\n",
      "RT_user_norm            146 non-null float64\n",
      "Metacritic_user_nom     146 non-null float64\n",
      "IMDB_norm               146 non-null float64\n",
      "Fandango_Ratingvalue    146 non-null float64\n",
      "Fandango_Stars          146 non-null float64\n",
      "dtypes: float64(5), object(1)\n",
      "memory usage: 6.9+ KB\n"
     ]
    },
    {
     "data": {
      "image/png": "[encoded data removed]",
      "text/plain": [
       "<Figure size 432x288 with 1 Axes>"
      ]
     },
     "metadata": {},
     "output_type": "display_data"
    }
   ],
   "source": [
    "#Create a single subplot and assign the returned Figure object to fig and the returned Axes object to ax\n",
    "fg,ax=plt.subplots()\n",
    "#Generate a scatter plot with the Fandango_Ratingvalue column on the x-axis and the RT_user_norm column on the y-axis\n",
    "print(norm_reviews)\n",
    "norm_reviews.info()\n",
    "ax.scatter(norm_reviews['Fandango_Ratingvalue'],norm_reviews['RT_user_norm'])\n",
    "#Set the x-axis label to \"Fandango\" and the y-axis label to \"Rotten Tomatoes\"\n",
    "ax.set_xlabel('Fandango')\n",
    "ax.set_ylabel('Rotten Tomatoes')\n",
    "plt.show()"
   ]
  },
  {
   "cell_type": "markdown",
   "metadata": {},
   "source": [
    "Observation:\n",
    "weak correlation: because for every many xvalues, there are corresponding y values\n",
    "positive : as x value increases, y value also increases\n",
    "xaxis:independent variable\n",
    "yaxis: dependent varibale\n",
    "Now, lets flip the columns"
   ]
  },
  {
   "cell_type": "code",
   "execution_count": 38,
   "metadata": {},
   "outputs": [
    {
     "data": {
      "image/png": "[encoded data removed]",
      "text/plain": [
       "<Figure size 360x720 with 2 Axes>"
      ]
     },
     "metadata": {},
     "output_type": "display_data"
    }
   ],
   "source": [
    "#We will basically compares the reversal plots\n",
    "fig=plt.figure(figsize=(5,10))\n",
    "ax1=fig.add_subplot(2,1,1)\n",
    "ax2=fig.add_subplot(2,1,2)\n",
    "\n",
    "#For axis 1\n",
    "#Generate a scatter plot with the Fandango_Ratingvalue column on the x-axis and the RT_user_norm column on the y-axis\n",
    "ax1.scatter(norm_reviews['Fandango_Ratingvalue'],norm_reviews['RT_user_norm'])\n",
    "#Set the x-axis label to \"Fandango\" and the y-axis label to \"Rotten Tomatoes\"\n",
    "ax1.set_xlabel('Fandango')\n",
    "ax1.set_ylabel('Rotten Tomatoes')\n",
    "#For the subplot associated with ax2:\n",
    "#Generate a scatter plot with the RT_user_norm column on the x-axis and the Fandango_Ratingvalue column on the y-axis.\n",
    "ax1.scatter(norm_reviews['RT_user_norm'],norm_reviews['Fandango_Ratingvalue'])\n",
    "#Set the x-axis label to \"Rotten Tomatoes\" and the y-axis label to \"Fandango\".\n",
    "ax2.set_xlabel('Rotten Tomatoes')\n",
    "ax2.set_ylabel('Fandango')\n",
    "plt.show()\n"
   ]
  },
  {
   "cell_type": "markdown",
   "metadata": {},
   "source": [
    "Now, lets have benchmarking correlation by generating multiple scatter plots. We can set the data limit for the both the axis using Axes.set_xlim() and Axes.set_ylim(); ax.set_xlim (0,5) ax.set_ylim(0,5)"
   ]
  },
  {
   "cell_type": "code",
   "execution_count": 42,
   "metadata": {},
   "outputs": [
    {
     "data": {
      "image/png": "[encoded data removed]",
      "text/plain": [
       "<Figure size 360x720 with 3 Axes>"
      ]
     },
     "metadata": {},
     "output_type": "display_data"
    }
   ],
   "source": [
    "#Generate a scatter plot with the Fandango_Ratingvalue column on the x-axis and the RT_user_norm column on the y-axis\n",
    "fig=plt.figure(figsize=(5,10))\n",
    "ax1=fig.add_subplot(3,1,1)\n",
    "ax2=fig.add_subplot(3,1,2)\n",
    "ax3=fig.add_subplot(3,1,3)\n",
    "\n",
    "#For the Subplot associated with ax1:\n",
    "#Generate a scatter plot with the Fandango_Ratingvalue column on the x-axis and the RT_user_norm column on the y-axis.\n",
    "#Set the x-axis label to \"Fandango\" and the y-axis label to \"Rotten Tomatoes\"\n",
    "#Set the x-axis and y-axis data limits to range from 0 and 5.\n",
    "ax1.scatter(norm_reviews['Fandango_Ratingvalue'],norm_reviews['RT_user_norm'])\n",
    "ax1.set_xlabel('Fandango')\n",
    "ax1.set_ylabel('Rotten Tomatoes')\n",
    "ax1.set_xlim(0,5)\n",
    "ax1.set_ylim(0,5)\n",
    "\n",
    "#For the Subplot associated with ax2:\n",
    "#Generate a scatter plot with the Fandango_Ratingvalue column on the x-axis and the Metacritic_user_nom column on the y-axis.\n",
    "#Set the x-axis label to \"Fandango\" and the y-axis label to \"Metacritic\".\n",
    "#Set the x-axis and y-axis data limits to range from 0 and 5.\n",
    "ax2.scatter(norm_reviews['Fandango_Ratingvalue'],norm_reviews['Metacritic_user_nom'])\n",
    "ax2.set_xlabel('Fandango')\n",
    "ax2.set_ylabel('Metacritic')\n",
    "ax2.set_xlim(0,5)\n",
    "ax2.set_ylim(0,5)\n",
    "\n",
    "#For the Subplot associated with ax3:\n",
    "#Generate a scatter plot with the Fandango_Ratingvalue column on the x-axis and the IMDB_norm column on the y-axis.\n",
    "#Set the x-axis label to \"Fandango\" and the y-axis label to \"IMDB\".\n",
    "#Set the x-axis and y-axis data limits to range from 0 and 5\n",
    "ax3.scatter(norm_reviews['Fandango_Ratingvalue'],norm_reviews['IMDB_norm'])\n",
    "ax3.set_xlabel('Fandango')\n",
    "ax3.set_ylabel('IMDB')\n",
    "ax3.set_xlim(0,5)\n",
    "ax3.set_ylim(0,5)\n",
    "plt.show()\n",
    "\n"
   ]
  },
  {
   "cell_type": "markdown",
   "metadata": {},
   "source": [
    "Conclusion: From the scatter plots, we can conclude that user ratings from IMDB and Fandango are the most similar. In addition, user ratings from Metacritic and Rotten Tomatoes have positive but weak correlations with user ratings from Fandango. We can also notice that user ratings from Metacritic and Rotten Tomatoes span a larger range of values than those from IMDB or Fandango. User ratings from Metacritic and Rotten Tomatoes range from 1 to 5. User ratings from Fandango range approximately from 2.5 to 5 while those from IMDB range approximately from 2 to 4.5."
   ]
  },
  {
   "cell_type": "code",
   "execution_count": null,
   "metadata": {},
   "outputs": [],
   "source": []
  },
  {
   "cell_type": "code",
   "execution_count": null,
   "metadata": {},
   "outputs": [],
   "source": []
  },
  {
   "cell_type": "code",
   "execution_count": null,
   "metadata": {},
   "outputs": [],
   "source": []
  },
  {
   "cell_type": "code",
   "execution_count": null,
   "metadata": {},
   "outputs": [],
   "source": []
  },
  {
   "cell_type": "code",
   "execution_count": null,
   "metadata": {},
   "outputs": [],
   "source": []
  },
  {
   "cell_type": "code",
   "execution_count": null,
   "metadata": {},
   "outputs": [],
   "source": []
  },
  {
   "cell_type": "code",
   "execution_count": null,
   "metadata": {},
   "outputs": [],
   "source": []
  },
  {
   "cell_type": "code",
   "execution_count": null,
   "metadata": {},
   "outputs": [],
   "source": []
  },
  {
   "cell_type": "code",
   "execution_count": null,
   "metadata": {},
   "outputs": [],
   "source": []
  },
  {
   "cell_type": "code",
   "execution_count": null,
   "metadata": {},
   "outputs": [],
   "source": []
  },
  {
   "cell_type": "code",
   "execution_count": null,
   "metadata": {},
   "outputs": [],
   "source": []
  },
  {
   "cell_type": "code",
   "execution_count": null,
   "metadata": {},
   "outputs": [],
   "source": []
  },
  {
   "cell_type": "code",
   "execution_count": null,
   "metadata": {},
   "outputs": [],
   "source": []
  },
  {
   "cell_type": "code",
   "execution_count": null,
   "metadata": {},
   "outputs": [],
   "source": []
  },
  {
   "cell_type": "code",
   "execution_count": null,
   "metadata": {},
   "outputs": [],
   "source": []
  },
  {
   "cell_type": "code",
   "execution_count": null,
   "metadata": {},
   "outputs": [],
   "source": []
  },
  {
   "cell_type": "code",
   "execution_count": null,
   "metadata": {},
   "outputs": [],
   "source": []
  },
  {
   "cell_type": "code",
   "execution_count": null,
   "metadata": {},
   "outputs": [],
   "source": []
  },
  {
   "cell_type": "code",
   "execution_count": null,
   "metadata": {},
   "outputs": [],
   "source": []
  },
  {
   "cell_type": "code",
   "execution_count": null,
   "metadata": {},
   "outputs": [],
   "source": []
  },
  {
   "cell_type": "code",
   "execution_count": null,
   "metadata": {},
   "outputs": [],
   "source": []
  },
  {
   "cell_type": "code",
   "execution_count": null,
   "metadata": {},
   "outputs": [],
   "source": []
  }
 ],
 "metadata": {
  "kernelspec": {
   "display_name": "Python 3",
   "language": "python",
   "name": "python3"
  },
  "language_info": {
   "codemirror_mode": {
    "name": "ipython",
    "version": 3
   },
   "file_extension": ".py",
   "mimetype": "text/x-python",
   "name": "python",
   "nbconvert_exporter": "python",
   "pygments_lexer": "ipython3",
   "version": "3.6.5"
  }
 },
 "nbformat": 4,
 "nbformat_minor": 2
}
